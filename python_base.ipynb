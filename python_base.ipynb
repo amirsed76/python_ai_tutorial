{
 "cells": [
  {
   "cell_type": "markdown",
   "metadata": {},
   "source": [
    "# variables & types"
   ]
  },
  {
   "cell_type": "code",
   "execution_count": 1,
   "metadata": {},
   "outputs": [
    {
     "name": "stdout",
     "output_type": "stream",
     "text": [
      "x = 1 y = amir  z = [1, '1']\n",
      "x = apple y = banana  z = cherry\n",
      "Python is good\n"
     ]
    }
   ],
   "source": [
    "x,y,z = 1,\"amir\",[1,\"1\"]\n",
    "print(f\"x = {x} y = {y}  z = {z}\")\n",
    "\n",
    "\n",
    "fruits = [\"apple\", \"banana\", \"cherry\"]\n",
    "x, y, z = fruits\n",
    "print(f\"x = {x} y = {y}  z = {z}\")\n",
    "\n",
    "\n",
    "x = \"Python is \"\n",
    "y = \"good\"\n",
    "z =  x + y\n",
    "print(z)"
   ]
  },
  {
   "cell_type": "code",
   "execution_count": 2,
   "metadata": {},
   "outputs": [
    {
     "name": "stdout",
     "output_type": "stream",
     "text": [
      "Python is fantastic\n",
      "Python is awesome\n"
     ]
    }
   ],
   "source": [
    "x = \"awesome\"\n",
    "\n",
    "def myfunc():\n",
    "    x = \"fantastic\"\n",
    "    print(\"Python is \" + x)\n",
    "\n",
    "myfunc()\n",
    "\n",
    "print(\"Python is \" + x)"
   ]
  },
  {
   "cell_type": "code",
   "execution_count": 3,
   "metadata": {},
   "outputs": [
    {
     "name": "stdout",
     "output_type": "stream",
     "text": [
      "python is fantastic\n",
      "Python is fantastic\n"
     ]
    }
   ],
   "source": [
    "def myfunc():\n",
    "    global x\n",
    "    x = \"fantastic\"\n",
    "    print(\"python is \"+x )\n",
    "\n",
    "myfunc()\n",
    "\n",
    "print(\"Python is \" + x)"
   ]
  },
  {
   "cell_type": "code",
   "execution_count": 4,
   "metadata": {},
   "outputs": [
    {
     "name": "stdout",
     "output_type": "stream",
     "text": [
      "name = Hello World ---------> type=<class 'str'>\n",
      "name = 20 ---------> type=<class 'int'>\n",
      "name = 20.5 ---------> type=<class 'float'>\n",
      "name = 2j ---------> type=<class 'complex'>\n",
      "name = ['apple', 'banana', 'cherry'] ---------> type=<class 'list'>\n",
      "name = ('apple', 'banana', 'cherry') ---------> type=<class 'tuple'>\n",
      "name = range(0, 6) ---------> type=<class 'range'>\n",
      "name = {'apple', 'cherry', 'banana'} ---------> type=<class 'set'>\n",
      "name = {'name': 'John', 'age': 36} ---------> type=<class 'dict'>\n",
      "name = True ---------> type=<class 'bool'>\n",
      "name = b'Hello' ---------> type=<class 'bytes'>\n"
     ]
    }
   ],
   "source": [
    "for item in [\n",
    "    \"Hello World\",20,20.5,2j,[\"apple\", \"banana\", \"cherry\"],(\"apple\", \"banana\", \"cherry\"),\n",
    "    range(6),{\"apple\", \"banana\", \"cherry\"},{\"name\" : \"John\", \"age\" : 36},True,b\"Hello\",\n",
    "    ]:\n",
    "    \n",
    "    print(f\"name = {item} ---------> type={type(item)}\")\n"
   ]
  },
  {
   "cell_type": "markdown",
   "metadata": {},
   "source": [
    "# numbers "
   ]
  },
  {
   "cell_type": "code",
   "execution_count": 5,
   "metadata": {},
   "outputs": [
    {
     "name": "stdout",
     "output_type": "stream",
     "text": [
      "__________\n",
      "11\n",
      "<class 'int'>\n",
      "121\n",
      "5.5\n",
      "5\n",
      "1\n",
      "13\n",
      "9\n",
      "__________\n",
      "-2\n",
      "<class 'int'>\n",
      "4\n",
      "-1.0\n",
      "-1\n",
      "0\n",
      "0\n",
      "-4\n",
      "__________\n",
      "35000.0\n",
      "<class 'float'>\n",
      "1225000000.0\n",
      "17500.0\n",
      "17500.0\n",
      "0.0\n",
      "35002.0\n",
      "34998.0\n",
      "__________\n",
      "120000.0\n",
      "<class 'float'>\n",
      "14400000000.0\n",
      "60000.0\n",
      "60000.0\n",
      "0.0\n",
      "120002.0\n",
      "119998.0\n",
      "__________\n",
      "-8.77e+101\n",
      "<class 'float'>\n",
      "7.69129e+203\n",
      "-4.385e+101\n",
      "-4.385e+101\n",
      "0.0\n",
      "-8.77e+101\n",
      "-8.77e+101\n",
      "__________\n",
      "2j\n",
      "<class 'complex'>\n",
      "(-4+0j)\n",
      "1j\n",
      "item , can't take floor of complex number.\n"
     ]
    }
   ],
   "source": [
    "for item in [11,-2,35e3,12E4,-87.7e100,2j]:\n",
    "    try:\n",
    "        print(\"_\"*10)\n",
    "        print(item)\n",
    "        print(type(item))\n",
    "        print(item**2)\n",
    "        print(item/2)\n",
    "        print(item//2)\n",
    "        print(item%2)\n",
    "        print(item+2)\n",
    "        print(item-2)\n",
    "    except Exception as e :\n",
    "        print(f\"item , {e}\")\n",
    "    "
   ]
  },
  {
   "cell_type": "markdown",
   "metadata": {},
   "source": [
    "# casting"
   ]
  },
  {
   "cell_type": "code",
   "execution_count": 6,
   "metadata": {},
   "outputs": [
    {
     "name": "stdout",
     "output_type": "stream",
     "text": [
      "1\n",
      "2\n",
      "3\n",
      "1.0\n",
      "2.8\n",
      "3.0\n",
      "4.2\n",
      "s1\n",
      "2\n",
      "3.0\n"
     ]
    }
   ],
   "source": [
    "for item in [int(1) , int(2.8) , int(\"3\") , float(1) ,float(2.8),float(\"3\"),float(\"4.2\"),str(\"s1\"),str(2),str(3.0)]:\n",
    "    print(item)"
   ]
  },
  {
   "cell_type": "code",
   "execution_count": null,
   "metadata": {},
   "outputs": [],
   "source": []
  },
  {
   "cell_type": "markdown",
   "metadata": {},
   "source": [
    "# strings"
   ]
  },
  {
   "cell_type": "code",
   "execution_count": 7,
   "metadata": {},
   "outputs": [
    {
     "name": "stdout",
     "output_type": "stream",
     "text": [
      "Hello\n",
      "H\n",
      "o\n",
      "H*e*l*l*o*\n",
      "\n",
      "5\n",
      "True\n",
      "True\n",
      "HELLO\n",
      "hello\n",
      "Jello\n",
      "Hello World\n",
      "WorldWorld\n"
     ]
    }
   ],
   "source": [
    "a = \"Hello\"\n",
    "b = \"World\"\n",
    "print(a)\n",
    "print(a[0])\n",
    "print(a[-1])\n",
    "for character in a:\n",
    "    print(character , end=\"*\")\n",
    "print(\"\\n\")\n",
    "print(len(a))\n",
    "print(\"el\" in a)\n",
    "print(\"HL\" not in a )\n",
    "print(a.upper())\n",
    "print(a.lower())\n",
    "print(a.replace(\"H\", \"J\"))\n",
    "print(a+\" \"+b)\n",
    "print(b*2)\n"
   ]
  },
  {
   "cell_type": "code",
   "execution_count": 8,
   "metadata": {},
   "outputs": [
    {
     "name": "stdout",
     "output_type": "stream",
     "text": [
      "           Lorem ipsum dolor sit amet,\n",
      "consectetur adipiscing elit,\n",
      "sed do eiusmod tempor incididunt\n",
      "ut labore et dolore magna aliqua.\n",
      "\n",
      "____________\n",
      "Lorem ipsum dolor sit amet,\n",
      "consectetur adipiscing elit,\n",
      "sed do eiusmod tempor incididunt\n",
      "ut labore et dolore magna aliqua.\n",
      "10\n",
      "orem\n",
      " Lorem ipsum dolor sit amet,\n",
      "consectetur adipiscing elit,\n",
      "sed do eiusmod tempor incididunt\n",
      "ut labore et dolore magna aliqua\n",
      "        Lorem ipsum dolor sit amet,\n",
      "consectetur adipiscing elit,\n",
      "sed do eiusmod tempor incididunt\n",
      "ut labore et dolore magna aliqua.\n",
      "\n",
      "   \n",
      "qua\n"
     ]
    }
   ],
   "source": [
    "\n",
    "b = \"\"\"           Lorem ipsum dolor sit amet,\n",
    "consectetur adipiscing elit,\n",
    "sed do eiusmod tempor incididunt\n",
    "ut labore et dolore magna aliqua.\\n\"\"\"\n",
    "\n",
    "print(b)\n",
    "print(\"____________\")\n",
    "print(b.strip())\n",
    "print(b.count(\"o\"))\n",
    "print(b.strip()[1:5])\n",
    "print(b[10:-2])\n",
    "print(b[3:])\n",
    "print(b[:3])\n",
    "print(b[-5:-2])"
   ]
  },
  {
   "cell_type": "code",
   "execution_count": 9,
   "metadata": {},
   "outputs": [
    {
     "name": "stdout",
     "output_type": "stream",
     "text": [
      "Lorem ipsum dolor sit amet,\n",
      "consectetur adipiscing elit,\n",
      "sed do eiusmod tempor incididunt\n",
      "ut labore et dolore magna aliqua.\n",
      "['Lorem ipsum dolor sit amet', '\\nconsectetur adipiscing elit', '\\nsed do eiusmod tempor incididunt\\nut labore et dolore magna aliqua.']\n"
     ]
    }
   ],
   "source": [
    "\n",
    "c = '''Lorem ipsum dolor sit amet,\n",
    "consectetur adipiscing elit,\n",
    "sed do eiusmod tempor incididunt\n",
    "ut labore et dolore magna aliqua.'''\n",
    "print(c)\n",
    "print(c.split(\",\"))"
   ]
  },
  {
   "cell_type": "code",
   "execution_count": 10,
   "metadata": {},
   "outputs": [
    {
     "name": "stdout",
     "output_type": "stream",
     "text": [
      "Lorem ipsum dolor sit amet,consectetur adipiscing elit,sed do eiusmod tempor incididuntut labore et dolore magna aliqua.\n"
     ]
    }
   ],
   "source": [
    "d=\"Lorem ipsum dolor sit amet,\\\n",
    "consectetur adipiscing elit,\\\n",
    "sed do eiusmod tempor incididunt\\\n",
    "ut labore et dolore magna aliqua.\"\n",
    "print(d)"
   ]
  },
  {
   "cell_type": "markdown",
   "metadata": {},
   "source": [
    "escape characters = https://www.w3schools.com/python/python_strings_escape.asp\n",
    "<br> string methods = https://www.w3schools.com/python/python_strings_methods.asp"
   ]
  },
  {
   "cell_type": "markdown",
   "metadata": {},
   "source": [
    "# operations \n",
    "operations = https://www.w3schools.com/python/python_operators.asp"
   ]
  },
  {
   "cell_type": "code",
   "execution_count": 11,
   "metadata": {},
   "outputs": [
    {
     "name": "stdout",
     "output_type": "stream",
     "text": [
      "100\n",
      "98\n",
      "100\n",
      "33\n",
      "16.5\n",
      "False False True True False\n",
      "False True\n",
      "True\n"
     ]
    }
   ],
   "source": [
    "x = 10 \n",
    "x**=2 \n",
    "print(x)\n",
    "x-=2 \n",
    "print(x)\n",
    "\n",
    "\n",
    "x+=2 \n",
    "print(x)\n",
    "\n",
    "\n",
    "x//=3 \n",
    "print(x)\n",
    "\n",
    "\n",
    "x/=2 \n",
    "print(x)\n",
    "\n",
    "\n",
    "print(x<=3 , x<3 , x>3 , x>=3 , x==3 )\n",
    "print(True and False , True or False)\n",
    "\n",
    "print(1 in [1,2,3,4,5])\n"
   ]
  },
  {
   "cell_type": "code",
   "execution_count": 12,
   "metadata": {},
   "outputs": [
    {
     "name": "stdout",
     "output_type": "stream",
     "text": [
      "True\n",
      "False\n",
      "True\n",
      "False\n",
      "True\n"
     ]
    }
   ],
   "source": [
    "x = [\"apple\", \"banana\"]\n",
    "y = [\"apple\", \"banana\"]\n",
    "z = x\n",
    "\n",
    "print(x is z)\n",
    "\n",
    "# returns True because z is the same object as x\n",
    "\n",
    "print(x is y)\n",
    "\n",
    "# returns False because x is not the same object as y, even if they have the same content\n",
    "\n",
    "print(x == y)\n",
    "\n",
    "# to demonstrate the difference betweeen \"is\" and \"==\": this comparison returns True because x is equal to y\n",
    "\n",
    "print(x is not z)\n",
    "\n",
    "print(x is not y)\n"
   ]
  },
  {
   "cell_type": "markdown",
   "metadata": {},
   "source": [
    "# list"
   ]
  },
  {
   "cell_type": "code",
   "execution_count": 13,
   "metadata": {},
   "outputs": [
    {
     "name": "stdout",
     "output_type": "stream",
     "text": [
      "5\n",
      "<class 'list'>\n",
      "34\n",
      "male\n",
      "[34]\n",
      "[34, True, 40]\n",
      "[34, True, 40, 'male']\n",
      "['abc', 34]\n",
      "['abc', 'ff', True, 40, 'male']\n",
      "['abc', 'gg', 'll', 40, 'male']\n",
      "['abc', 'yy', 40, 'male']\n",
      "['abc', 'yy', 'OO', 40, 'male']\n",
      "['abc', 'yy', 'OO', 40, 'male', 'EE']\n",
      "['abc', 'yy', 'OO', 40, 'male', 'EE', 'WW', 'QQ', ['TT', 'ZZ']]\n",
      "['abc', 'yy', 'OO', 40, 'male', 'EE', 'WW', 'QQ', ['TT', 'ZZ'], 'a', 'a', 'a']\n",
      "['abc', 'yy', 'OO', 40, 'male', 'EE', 'WW', 'QQ', ['TT', 'ZZ'], 'a', 'a']\n",
      "yy\n",
      "['abc', 'OO', 40, 'male', 'EE', 'WW', 'QQ', ['TT', 'ZZ'], 'a', 'a']\n"
     ]
    }
   ],
   "source": [
    "my_list = [\"abc\", 34, True, 40, \"male\"]\n",
    "print(len(my_list))\n",
    "print(type(my_list))\n",
    "print(my_list[1])\n",
    "print(my_list[-1])\n",
    "print(my_list[1:2])\n",
    "print(my_list[1:-1])\n",
    "print(my_list[1:])\n",
    "print(my_list[:2])\n",
    "my_list[1] = \"ff\"\n",
    "print(my_list)\n",
    "my_list[1:3] = [\"gg\",\"ll\"]\n",
    "print(my_list)\n",
    "my_list[1:3] = [\"yy\"]\n",
    "print(my_list)\n",
    "my_list.insert(2, \"OO\")\n",
    "print(my_list)\n",
    "\n",
    "my_list.append(\"EE\")\n",
    "print(my_list)\n",
    "my_list.extend([\"WW\",\"QQ\" , [\"TT\",\"ZZ\"]]) #iterable\n",
    "print(my_list)\n",
    "my_list.extend(\"aaa\")\n",
    "print(my_list)\n",
    "my_list.remove(\"a\")\n",
    "print(my_list)\n",
    "\n",
    "pop_item = my_list.pop(1) # default number is the latest item\n",
    "print(pop_item)\n",
    "print(my_list)\n"
   ]
  },
  {
   "cell_type": "code",
   "execution_count": 14,
   "metadata": {},
   "outputs": [
    {
     "name": "stdout",
     "output_type": "stream",
     "text": [
      "abc 34 True 40 male \n",
      "abc 34 True 40 male \n",
      "0 -> abc    1 -> 34    2 -> True    3 -> 40    4 -> male    \n",
      "abc 34 True 40 male \n",
      "['abc', 34, True, 40, 'male']\n",
      "['abc', 34, True, 40, 'male']\n",
      "\n",
      "abc 34 True 40 male "
     ]
    }
   ],
   "source": [
    "my_list = [\"abc\", 34, True, 40, \"male\"]\n",
    "for item in my_list:\n",
    "    print(item , end=\" \")\n",
    "    \n",
    "print(\"\")\n",
    "for i in range(len(my_list)):\n",
    "    print(my_list[i] , end=\" \")\n",
    "    \n",
    "print(\"\")\n",
    "for i,item in enumerate(my_list):\n",
    "    print(i,\"->\",item , end=\"    \")\n",
    "print(\"\")\n",
    "\n",
    "[print(item , end=\" \") for item in my_list]\n",
    "print(\"\")\n",
    "\n",
    "print(my_list)\n",
    "print([item for item in my_list])\n",
    " \n",
    "print(\"\")\n",
    "\n",
    "index = 0 \n",
    "while index < len(my_list):\n",
    "    print(my_list[index],end=\" \")\n",
    "    index+=1"
   ]
  },
  {
   "cell_type": "code",
   "execution_count": 15,
   "metadata": {},
   "outputs": [
    {
     "name": "stdout",
     "output_type": "stream",
     "text": [
      "['apple', 'banana', 'mango']\n",
      "['apple', 'banana', 'mango']\n",
      "['banana', 'cherry', 'kiwi', 'mango']\n"
     ]
    }
   ],
   "source": [
    "fruits = [\"apple\", \"banana\", \"cherry\", \"kiwi\", \"mango\"]\n",
    "newlist = []\n",
    "\n",
    "for x in fruits:\n",
    "    if \"a\" in x:\n",
    "        newlist.append(x)\n",
    "print(newlist)\n",
    "\n",
    "\n",
    "newlist = [x for x in fruits if \"a\" in x]\n",
    "print(newlist)\n",
    "\n",
    "\n",
    "newlist = [x for x in fruits if x != \"apple\"]\n",
    "print(newlist)\n"
   ]
  },
  {
   "cell_type": "code",
   "execution_count": 16,
   "metadata": {},
   "outputs": [
    {
     "name": "stdout",
     "output_type": "stream",
     "text": [
      "[23, 50, 65, 82, 100]\n",
      "[100, 82, 65, 50, 23]\n",
      "[50, 65, 23, 82, 100]\n",
      "[65, 50, 82, 100, 23]\n"
     ]
    }
   ],
   "source": [
    "thislist = [100, 50, 65, 82, 23]\n",
    "thislist.sort()\n",
    "print(thislist)\n",
    "thislist.sort(reverse=True)\n",
    "print(thislist)\n",
    "\n",
    "\n",
    "def myfunc(n):\n",
    "    return abs(n - 50)\n",
    "\n",
    "thislist = [100, 50, 65, 82, 23]\n",
    "thislist.sort(key = myfunc)\n",
    "print(thislist)\n",
    "\n",
    "\n",
    "thislist.sort(key = lambda item:abs(item - 65))\n",
    "print(thislist)\n"
   ]
  },
  {
   "cell_type": "code",
   "execution_count": 17,
   "metadata": {},
   "outputs": [
    {
     "name": "stdout",
     "output_type": "stream",
     "text": [
      "['apple', 'banana']\n",
      "['apple', 'banana', 'cherry']\n"
     ]
    }
   ],
   "source": [
    "thislist = [\"apple\", \"banana\", \"cherry\"]\n",
    "l2 = thislist\n",
    "thislist.pop()\n",
    "print(l2)\n",
    "thislist = [\"apple\", \"banana\", \"cherry\"]\n",
    "mylist = thislist.copy()\n",
    "thislist.pop()\n",
    "print(mylist)"
   ]
  },
  {
   "cell_type": "code",
   "execution_count": 18,
   "metadata": {},
   "outputs": [
    {
     "name": "stdout",
     "output_type": "stream",
     "text": [
      "['a', 'b', 'c', 1, 2, 3]\n"
     ]
    }
   ],
   "source": [
    "list1 = [\"a\", \"b\", \"c\"]\n",
    "list2 = [1, 2, 3]\n",
    "\n",
    "list3 = list1 + list2\n",
    "print(list3)\n"
   ]
  },
  {
   "cell_type": "code",
   "execution_count": 19,
   "metadata": {},
   "outputs": [
    {
     "data": {
      "text/plain": [
       "4"
      ]
     },
     "execution_count": 19,
     "metadata": {},
     "output_type": "execute_result"
    }
   ],
   "source": [
    "l = [1,1,1,2,3,4,1]\n",
    "l.count(1)"
   ]
  },
  {
   "cell_type": "markdown",
   "metadata": {},
   "source": [
    "other list methods = https://www.w3schools.com/python/python_lists_methods.asp"
   ]
  },
  {
   "cell_type": "markdown",
   "metadata": {},
   "source": [
    "# tuples \n",
    "https://www.w3schools.com/python/python_tuples.asp"
   ]
  },
  {
   "cell_type": "markdown",
   "metadata": {},
   "source": [
    "# set\n",
    "https://www.w3schools.com/python/python_sets.asp <br>\n"
   ]
  },
  {
   "cell_type": "code",
   "execution_count": 25,
   "metadata": {},
   "outputs": [
    {
     "name": "stdout",
     "output_type": "stream",
     "text": [
      "{'apple', 'cherry', 'banana'}\n",
      "{'apple', 'cherry', 'banana', 'orange'}\n",
      "{'apple', 'mango', 'cherry', 'pineapple', 'papaya', 'banana'}\n",
      "{'apple', 'mango', 'cherry', 'pineapple', 'papaya'}\n"
     ]
    }
   ],
   "source": [
    "thisset = {\"apple\", \"banana\", \"cherry\", \"apple\"}\n",
    "\n",
    "print(thisset)\n",
    "\n",
    "thisset.add(\"orange\")\n",
    "print(thisset)\n",
    "\n",
    "\n",
    "thisset = {\"apple\", \"banana\", \"cherry\"}\n",
    "thisset.update({\"pineapple\", \"mango\", \"papaya\"})\n",
    "\n",
    "print(thisset)\n",
    "\n",
    "thisset.remove(\"banana\") # or discard  => remove has exception if not exist but discard no \n",
    "# pop return item\n",
    "print(thisset)\n"
   ]
  },
  {
   "cell_type": "code",
   "execution_count": 26,
   "metadata": {},
   "outputs": [
    {
     "name": "stdout",
     "output_type": "stream",
     "text": [
      "{1, 'b', 2, 3, 'a', 'c'}\n",
      "{'apple'}\n",
      "{'apple'}\n",
      "{'google', 'cherry', 'microsoft', 'banana'}\n",
      "{'google', 'cherry', 'microsoft', 'banana'}\n"
     ]
    }
   ],
   "source": [
    "set1 = {\"a\", \"b\" , \"c\"}\n",
    "set2 = {1, 2, 3}\n",
    "\n",
    "set3 = set1.union(set2) \n",
    "print(set3)\n",
    "\n",
    "\n",
    "\n",
    "x = {\"apple\", \"banana\", \"cherry\"}\n",
    "y = {\"google\", \"microsoft\", \"apple\"}\n",
    "x.intersection_update(y)\n",
    "print(x)\n",
    "\n",
    "x = {\"apple\", \"banana\", \"cherry\"}\n",
    "y = {\"google\", \"microsoft\", \"apple\"}\n",
    "z = x.intersection(y)\n",
    "print(z)\n",
    "\n",
    "\n",
    "x = {\"apple\", \"banana\", \"cherry\"}\n",
    "y = {\"google\", \"microsoft\", \"apple\"}\n",
    "x.symmetric_difference_update(y)\n",
    "print(x)\n",
    "\n",
    "x = {\"apple\", \"banana\", \"cherry\"}\n",
    "y = {\"google\", \"microsoft\", \"apple\"}\n",
    "z = x.symmetric_difference(y)\n",
    "print(z)\n"
   ]
  },
  {
   "cell_type": "markdown",
   "metadata": {},
   "source": [
    "# dictionary \n",
    "https://www.w3schools.com/python/python_dictionaries.asp"
   ]
  },
  {
   "cell_type": "code",
   "execution_count": 27,
   "metadata": {},
   "outputs": [
    {
     "name": "stdout",
     "output_type": "stream",
     "text": [
      "{'brand': 'Ford', 'model': 'Mustang', 'year': 1964}\n",
      "Ford\n",
      "Mustang\n",
      "dict_keys(['brand', 'model', 'year'])\n",
      "{'brand': 'Ford', 'model': 'Mustang', 'year': 1964, 'new_key': 'new_value'}\n",
      "dict_values(['Ford', 'Mustang', 1964, 'new_value'])\n",
      "dict_items([('brand', 'Ford'), ('model', 'Mustang'), ('year', 1964), ('new_key', 'new_value')])\n",
      "{'brand': 'Ford', 'model': 'Mustang', 'year': 1964}\n",
      "{'brand': 'Ford', 'model': 'Mustang'}\n",
      "{'brand': 'new_brand', 'model': 'Mustang'}\n",
      "{'brand': 'Ford', 'model': 'Mustang', 'year': 1964}\n"
     ]
    }
   ],
   "source": [
    "thisdict = {\n",
    "  \"brand\": \"Ford\",\n",
    "  \"model\": \"Mustang\",\n",
    "  \"year\": 1964\n",
    "}\n",
    "print(thisdict)\n",
    "print(thisdict[\"brand\"])\n",
    "print(thisdict.get(\"model\"))\n",
    "print(thisdict.keys())\n",
    "thisdict[\"new_key\"] = \"new_value\"\n",
    "print(thisdict)\n",
    "print(thisdict.values())\n",
    "print(thisdict.items())\n",
    "thisdict.popitem()\n",
    "print(thisdict)\n",
    "del thisdict[\"year\"]\n",
    "print(thisdict)\n",
    "\n",
    "newdict = thisdict\n",
    "thisdict[\"brand\"] = \"new_brand\"\n",
    "print(newdict)\n",
    "\n",
    "thisdict = {\n",
    "  \"brand\": \"Ford\",\n",
    "  \"model\": \"Mustang\",\n",
    "  \"year\": 1964\n",
    "}\n",
    "newdict = thisdict.copy()\n",
    "thisdict[\"brand\"] = \"new_brand\"\n",
    "print(newdict)"
   ]
  },
  {
   "cell_type": "code",
   "execution_count": 28,
   "metadata": {},
   "outputs": [
    {
     "name": "stdout",
     "output_type": "stream",
     "text": [
      "{'child1': {'name': 'Emil', 'year': 2004}, 'child2': {'name': 'Tobias', 'year': 2007}, 'child3': {'name': 'Linus', 'year': 2011}}\n"
     ]
    }
   ],
   "source": [
    "child1 = {\n",
    "  \"name\" : \"Emil\",\n",
    "  \"year\" : 2004\n",
    "}\n",
    "child2 = {\n",
    "  \"name\" : \"Tobias\",\n",
    "  \"year\" : 2007\n",
    "}\n",
    "child3 = {\n",
    "  \"name\" : \"Linus\",\n",
    "  \"year\" : 2011\n",
    "}\n",
    "\n",
    "myfamily = {\n",
    "  \"child1\" : child1,\n",
    "  \"child2\" : child2,\n",
    "  \"child3\" : child3\n",
    "}\n",
    "print(myfamily)"
   ]
  },
  {
   "cell_type": "markdown",
   "metadata": {},
   "source": [
    "# if else\n",
    "https://www.w3schools.com/python/python_conditions.asp"
   ]
  },
  {
   "cell_type": "code",
   "execution_count": 37,
   "metadata": {},
   "outputs": [
    {
     "name": "stdout",
     "output_type": "stream",
     "text": [
      "a is greater than b\n",
      "2\n",
      "B\n",
      "=\n"
     ]
    }
   ],
   "source": [
    "a = 200\n",
    "b = 33\n",
    "if b > a:\n",
    "  print(\"b is greater than a\")\n",
    "elif a == b:\n",
    "  print(\"a and b are equal\")\n",
    "else:\n",
    "    print(\"a is greater than b\")\n",
    "\n",
    "x = 2 if a>b else 3 \n",
    "print(x)\n",
    "\n",
    "a=b =2 \n",
    "print(\"A\") if a > b else print(\"B\")\n",
    "print(\"A\") if a > b else print(\"=\") if a == b else print(\"B\")\n"
   ]
  },
  {
   "cell_type": "markdown",
   "metadata": {},
   "source": [
    "# while loop"
   ]
  },
  {
   "cell_type": "code",
   "execution_count": 38,
   "metadata": {},
   "outputs": [
    {
     "name": "stdout",
     "output_type": "stream",
     "text": [
      "1\n",
      "2\n",
      "3\n"
     ]
    }
   ],
   "source": [
    "i = 1\n",
    "while i < 6:\n",
    "    print(i)\n",
    "    if i == 3:\n",
    "        break\n",
    "    i += 1"
   ]
  },
  {
   "cell_type": "code",
   "execution_count": 39,
   "metadata": {},
   "outputs": [
    {
     "name": "stdout",
     "output_type": "stream",
     "text": [
      "1\n",
      "2\n",
      "4\n",
      "5\n",
      "6\n"
     ]
    }
   ],
   "source": [
    "i = 0\n",
    "while i < 6:\n",
    "    i += 1\n",
    "    if i == 3:\n",
    "        continue\n",
    "    print(i)"
   ]
  },
  {
   "cell_type": "code",
   "execution_count": 41,
   "metadata": {},
   "outputs": [
    {
     "name": "stdout",
     "output_type": "stream",
     "text": [
      "1\n",
      "2\n",
      "3\n",
      "4\n",
      "5\n",
      "i is no longer less than 6\n"
     ]
    }
   ],
   "source": [
    "i = 1\n",
    "while i < 6:\n",
    "    print(i)\n",
    "    i += 1\n",
    "else:\n",
    "    print(\"i is no longer less than 6\")\n"
   ]
  },
  {
   "cell_type": "markdown",
   "metadata": {},
   "source": [
    "# function \n",
    "https://www.w3schools.com/python/python_functions.asp"
   ]
  },
  {
   "cell_type": "code",
   "execution_count": 45,
   "metadata": {},
   "outputs": [
    {
     "name": "stdout",
     "output_type": "stream",
     "text": [
      "Emil Refsnes\n",
      "The youngest child is Linus\n",
      "The youngest child is Linus\n",
      "{'fname': 'Tobias', 'lname': 'Refsnes'}\n",
      "His last name is Refsnes\n",
      "I am from Sweden\n",
      "I am from India\n",
      "I am from Norway\n"
     ]
    }
   ],
   "source": [
    "def my_function(fname, lname):\n",
    "    print(fname + \" \" + lname)\n",
    "\n",
    "my_function(\"Emil\", \"Refsnes\")\n",
    "\n",
    "def my_function(*kids):\n",
    "  print(\"The youngest child is \" + kids[2])\n",
    "\n",
    "my_function(\"Emil\", \"Tobias\", \"Linus\")\n",
    "\n",
    "\n",
    "def my_function(child3, child2, child1):\n",
    "  print(\"The youngest child is \" + child3)\n",
    "\n",
    "my_function(child1 = \"Emil\", child2 = \"Tobias\", child3 = \"Linus\")\n",
    "\n",
    "\n",
    "def my_function(**kid):\n",
    "    print(kid)\n",
    "    print(\"His last name is \" + kid[\"lname\"])\n",
    "\n",
    "my_function(fname = \"Tobias\", lname = \"Refsnes\")\n",
    "\n",
    "\n",
    "def my_function(country = \"Norway\"):\n",
    "  print(\"I am from \" + country)\n",
    "\n",
    "my_function(\"Sweden\")\n",
    "my_function(\"India\")\n",
    "my_function()\n"
   ]
  },
  {
   "cell_type": "markdown",
   "metadata": {},
   "source": [
    "# lambda \n",
    "https://www.w3schools.com/python/python_lambda.asp"
   ]
  },
  {
   "cell_type": "markdown",
   "metadata": {},
   "source": [
    "# class\n",
    "https://www.w3schools.com/python/python_classes.asp"
   ]
  },
  {
   "cell_type": "code",
   "execution_count": 48,
   "metadata": {},
   "outputs": [
    {
     "name": "stdout",
     "output_type": "stream",
     "text": [
      "John\n",
      "36\n",
      "5\n",
      "Hello my name is John\n",
      "None\n",
      "name = John  age=36 x=5\n",
      "name = sara  age=40 x=5\n",
      "name = John  age=36 x=10\n",
      "name = sara  age=40 x=5\n",
      "name = John  age=36 x=10\n",
      "name = sara  age=40 x=20\n",
      "okk\n",
      "2019\n"
     ]
    }
   ],
   "source": [
    "class Person:\n",
    "    x = 5\n",
    "    def __init__(self, name, age):\n",
    "        self.name = name\n",
    "        self.age  = age\n",
    "        \n",
    "    \n",
    "    def myfunc(self):\n",
    "        print(\"Hello my name is \" + self.name)\n",
    "        \n",
    "    def __str__(self):\n",
    "        return f\"name = {self.name}  age={self.age} x={self.x}\"\n",
    "\n",
    "\n",
    "p1 = Person(\"John\", 36)\n",
    "p2 = Person(\"sara\",40)\n",
    "\n",
    "\n",
    "print(p1.name)\n",
    "print(p1.age)\n",
    "print(p1.x)\n",
    "print(p1.myfunc())\n",
    "print(p1)\n",
    "print(p2)\n",
    "p1.x = 10\n",
    "print(p1)\n",
    "print(p2)\n",
    "\n",
    "Person.x = 20\n",
    "print(p1)\n",
    "print(p2)\n",
    "\n",
    "\n",
    "class Student(Person):\n",
    "    def __init__(self, fname, lname):\n",
    "        super().__init__(fname, lname)\n",
    "        self.graduationyear = 2019\n",
    "        \n",
    "#     def __str__(self):\n",
    "#         return \"okk\"\n",
    "        \n",
    "    \n",
    "s1 = Student(\"amirreza\",23)\n",
    "print(s1)\n",
    "print(s1.graduationyear)\n",
    "\n"
   ]
  },
  {
   "cell_type": "markdown",
   "metadata": {},
   "source": [
    "# iterators\n",
    "https://www.w3schools.com/python/python_iterators.asp"
   ]
  },
  {
   "cell_type": "markdown",
   "metadata": {},
   "source": [
    "# scope \n",
    "https://www.w3schools.com/python/python_scope.asp"
   ]
  },
  {
   "cell_type": "markdown",
   "metadata": {},
   "source": [
    "# math \n",
    "https://www.w3schools.com/python/python_math.asp"
   ]
  },
  {
   "cell_type": "code",
   "execution_count": 54,
   "metadata": {},
   "outputs": [
    {
     "name": "stdout",
     "output_type": "stream",
     "text": [
      "10\n",
      "5\n",
      "25\n",
      "7.25\n",
      "1\n",
      "2\n",
      "1\n"
     ]
    }
   ],
   "source": [
    "x = min(5, 10, 25 , key=lambda item : abs(item-10))\n",
    "print(x)\n",
    "x = min(5, 10, 25 )\n",
    "\n",
    "y = max(5, 10, 25)\n",
    "\n",
    "print(x)\n",
    "print(y)\n",
    "\n",
    "x = abs(-7.25)\n",
    "\n",
    "print(x)\n",
    "\n",
    "\n",
    "import math\n",
    "print(int(1.4 // 1) )\n",
    "x = math.ceil(1.4)\n",
    "y = math.floor(1.4)\n",
    "\n",
    "print(x) # returns 2\n",
    "print(y) # returns 1"
   ]
  },
  {
   "cell_type": "markdown",
   "metadata": {},
   "source": [
    "# json \n",
    "https://www.w3schools.com/python/python_json.asp"
   ]
  },
  {
   "cell_type": "markdown",
   "metadata": {},
   "source": [
    "# pip \n",
    "https://www.w3schools.com/python/python_pip.asp\n",
    "\n",
    "! pip install pkg <br>\n",
    "! pip uninstall pkg "
   ]
  },
  {
   "cell_type": "markdown",
   "metadata": {},
   "source": [
    "# try - except \n",
    "https://www.w3schools.com/python/python_try_except.asp"
   ]
  },
  {
   "cell_type": "code",
   "execution_count": 61,
   "metadata": {},
   "outputs": [
    {
     "name": "stdout",
     "output_type": "stream",
     "text": [
      "3\n",
      "EXCEPTION integer division or modulo by zero\n",
      "finally\n"
     ]
    }
   ],
   "source": [
    "x = 3 \n",
    "try:\n",
    "    print(x)\n",
    "    print(x//0)\n",
    "    \n",
    "    \n",
    "except Exception as e :\n",
    "    print(f\"EXCEPTION {e}\")\n",
    "    \n",
    "else : \n",
    "    print(\"OK\") #when we don't have any exceptions\n",
    "    \n",
    "finally:\n",
    "    print(\"finally\")\n",
    "    "
   ]
  },
  {
   "cell_type": "code",
   "execution_count": 62,
   "metadata": {},
   "outputs": [
    {
     "name": "stdout",
     "output_type": "stream",
     "text": [
      "Something went wrong when opening the file\n"
     ]
    }
   ],
   "source": [
    "try:\n",
    "    f = open(\"demofile.txt\")\n",
    "    try:\n",
    "        f.write(\"Lorum Ipsum\")\n",
    "    except:\n",
    "        print(\"Something went wrong when writing to the file\")\n",
    "    finally:\n",
    "        f.close()\n",
    "except:\n",
    "    print(\"Something went wrong when opening the file\")"
   ]
  },
  {
   "cell_type": "code",
   "execution_count": 63,
   "metadata": {},
   "outputs": [
    {
     "ename": "Exception",
     "evalue": "Sorry, no numbers below zero",
     "output_type": "error",
     "traceback": [
      "\u001b[1;31m---------------------------------------------------------------------------\u001b[0m",
      "\u001b[1;31mException\u001b[0m                                 Traceback (most recent call last)",
      "\u001b[1;32m~\\AppData\\Local\\Temp/ipykernel_15844/1619019459.py\u001b[0m in \u001b[0;36m<module>\u001b[1;34m\u001b[0m\n\u001b[0;32m      2\u001b[0m \u001b[1;33m\u001b[0m\u001b[0m\n\u001b[0;32m      3\u001b[0m \u001b[1;32mif\u001b[0m \u001b[0mx\u001b[0m \u001b[1;33m<\u001b[0m \u001b[1;36m0\u001b[0m\u001b[1;33m:\u001b[0m\u001b[1;33m\u001b[0m\u001b[1;33m\u001b[0m\u001b[0m\n\u001b[1;32m----> 4\u001b[1;33m     \u001b[1;32mraise\u001b[0m \u001b[0mException\u001b[0m\u001b[1;33m(\u001b[0m\u001b[1;34m\"Sorry, no numbers below zero\"\u001b[0m\u001b[1;33m)\u001b[0m\u001b[1;33m\u001b[0m\u001b[1;33m\u001b[0m\u001b[0m\n\u001b[0m",
      "\u001b[1;31mException\u001b[0m: Sorry, no numbers below zero"
     ]
    }
   ],
   "source": [
    "x = -1\n",
    "\n",
    "if x < 0:\n",
    "    raise Exception(\"Sorry, no numbers below zero\")"
   ]
  },
  {
   "cell_type": "markdown",
   "metadata": {},
   "source": [
    "# input"
   ]
  },
  {
   "cell_type": "code",
   "execution_count": 64,
   "metadata": {},
   "outputs": [
    {
     "name": "stdout",
     "output_type": "stream",
     "text": [
      "please input value1\n",
      "1\n",
      "<class 'str'>\n"
     ]
    }
   ],
   "source": [
    "x = input(\"please input value\")\n",
    "print(x)\n",
    "print(type(x))"
   ]
  },
  {
   "cell_type": "code",
   "execution_count": null,
   "metadata": {},
   "outputs": [],
   "source": []
  }
 ],
 "metadata": {
  "kernelspec": {
   "display_name": "Python 3 (ipykernel)",
   "language": "python",
   "name": "python3"
  },
  "language_info": {
   "codemirror_mode": {
    "name": "ipython",
    "version": 3
   },
   "file_extension": ".py",
   "mimetype": "text/x-python",
   "name": "python",
   "nbconvert_exporter": "python",
   "pygments_lexer": "ipython3",
   "version": "3.9.7"
  }
 },
 "nbformat": 4,
 "nbformat_minor": 4
}
